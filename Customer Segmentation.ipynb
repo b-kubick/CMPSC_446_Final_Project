{
 "cells": [
  {
   "cell_type": "markdown",
   "source": [
    "## Introduction"
   ],
   "metadata": {
    "collapsed": false
   }
  },
  {
   "cell_type": "markdown",
   "source": [
    "### Imports"
   ],
   "metadata": {
    "collapsed": false
   }
  },
  {
   "cell_type": "code",
   "execution_count": 58,
   "metadata": {
    "collapsed": true
   },
   "outputs": [],
   "source": [
    "\n",
    "import pandas as pd\n",
    "import numpy as np\n",
    "\n",
    "# Visualization\n",
    "import matplotlib.pyplot as plt\n",
    "import plotly.express as px\n",
    "import plotly.graph_objects as go\n",
    "from plotly.subplots import make_subplots\n",
    "\n",
    "# Data preprocessing and clustering\n",
    "from sklearn.cluster import KMeans\n",
    "\n",
    "%matplotlib inline\n",
    "# to include graphs inline within the frontends next to code\n",
    "\n",
    "pd.options.mode.chained_assignment = None\n",
    "# to bypass warnings in various dataframe assignments\n"
   ]
  },
  {
   "cell_type": "markdown",
   "source": [
    "## Investigate Data"
   ],
   "metadata": {
    "collapsed": false
   }
  },
  {
   "cell_type": "code",
   "execution_count": 59,
   "outputs": [],
   "source": [
    "# load data into a dataframe\n",
    "customers_orders = pd.read_csv(\"Orders - Analysis Task.csv\")"
   ],
   "metadata": {
    "collapsed": false
   }
  },
  {
   "cell_type": "code",
   "execution_count": 60,
   "outputs": [
    {
     "data": {
      "text/plain": "  product_title product_type variant_title               variant_sku  \\\n0           DPR          DPR           100  AD-982-708-895-F-6C894FB   \n1           RJF    Product P  28 / A / MTM  83-490-E49-8C8-8-3B100BC   \n2           CLH    Product B  32 / B / FtO  68-ECA-BC7-3B2-A-E73DE1B   \n3           NMA    Product F  40 / B / FtO  6C-1F1-226-1B3-2-3542B41   \n4           NMA    Product F  40 / B / FtO  6C-1F1-226-1B3-2-3542B41   \n\n   variant_id  customer_id        order_id         day  net_quantity  \\\n0    52039657      1312378  83290718932496  04/12/2018             2   \n1    56914686      3715657  36253792848113  01/04/2019             2   \n2    24064862      9533448  73094559597229  05/11/2018             0   \n3    43823868      4121004  53616575668264  19/02/2019             1   \n4    43823868      4121004  29263220319421  19/02/2019             1   \n\n   gross_sales  discounts  returns  net_sales  taxes  total_sales  \\\n0        200.0    -200.00     0.00        0.0    0.0          0.0   \n1        190.0    -190.00     0.00        0.0    0.0          0.0   \n2        164.8    -156.56    -8.24        0.0    0.0          0.0   \n3        119.0    -119.00     0.00        0.0    0.0          0.0   \n4        119.0    -119.00     0.00        0.0    0.0          0.0   \n\n   returned_item_quantity  ordered_item_quantity  \n0                       0                      2  \n1                       0                      2  \n2                      -2                      2  \n3                       0                      1  \n4                       0                      1  ",
      "text/html": "<div>\n<style scoped>\n    .dataframe tbody tr th:only-of-type {\n        vertical-align: middle;\n    }\n\n    .dataframe tbody tr th {\n        vertical-align: top;\n    }\n\n    .dataframe thead th {\n        text-align: right;\n    }\n</style>\n<table border=\"1\" class=\"dataframe\">\n  <thead>\n    <tr style=\"text-align: right;\">\n      <th></th>\n      <th>product_title</th>\n      <th>product_type</th>\n      <th>variant_title</th>\n      <th>variant_sku</th>\n      <th>variant_id</th>\n      <th>customer_id</th>\n      <th>order_id</th>\n      <th>day</th>\n      <th>net_quantity</th>\n      <th>gross_sales</th>\n      <th>discounts</th>\n      <th>returns</th>\n      <th>net_sales</th>\n      <th>taxes</th>\n      <th>total_sales</th>\n      <th>returned_item_quantity</th>\n      <th>ordered_item_quantity</th>\n    </tr>\n  </thead>\n  <tbody>\n    <tr>\n      <th>0</th>\n      <td>DPR</td>\n      <td>DPR</td>\n      <td>100</td>\n      <td>AD-982-708-895-F-6C894FB</td>\n      <td>52039657</td>\n      <td>1312378</td>\n      <td>83290718932496</td>\n      <td>04/12/2018</td>\n      <td>2</td>\n      <td>200.0</td>\n      <td>-200.00</td>\n      <td>0.00</td>\n      <td>0.0</td>\n      <td>0.0</td>\n      <td>0.0</td>\n      <td>0</td>\n      <td>2</td>\n    </tr>\n    <tr>\n      <th>1</th>\n      <td>RJF</td>\n      <td>Product P</td>\n      <td>28 / A / MTM</td>\n      <td>83-490-E49-8C8-8-3B100BC</td>\n      <td>56914686</td>\n      <td>3715657</td>\n      <td>36253792848113</td>\n      <td>01/04/2019</td>\n      <td>2</td>\n      <td>190.0</td>\n      <td>-190.00</td>\n      <td>0.00</td>\n      <td>0.0</td>\n      <td>0.0</td>\n      <td>0.0</td>\n      <td>0</td>\n      <td>2</td>\n    </tr>\n    <tr>\n      <th>2</th>\n      <td>CLH</td>\n      <td>Product B</td>\n      <td>32 / B / FtO</td>\n      <td>68-ECA-BC7-3B2-A-E73DE1B</td>\n      <td>24064862</td>\n      <td>9533448</td>\n      <td>73094559597229</td>\n      <td>05/11/2018</td>\n      <td>0</td>\n      <td>164.8</td>\n      <td>-156.56</td>\n      <td>-8.24</td>\n      <td>0.0</td>\n      <td>0.0</td>\n      <td>0.0</td>\n      <td>-2</td>\n      <td>2</td>\n    </tr>\n    <tr>\n      <th>3</th>\n      <td>NMA</td>\n      <td>Product F</td>\n      <td>40 / B / FtO</td>\n      <td>6C-1F1-226-1B3-2-3542B41</td>\n      <td>43823868</td>\n      <td>4121004</td>\n      <td>53616575668264</td>\n      <td>19/02/2019</td>\n      <td>1</td>\n      <td>119.0</td>\n      <td>-119.00</td>\n      <td>0.00</td>\n      <td>0.0</td>\n      <td>0.0</td>\n      <td>0.0</td>\n      <td>0</td>\n      <td>1</td>\n    </tr>\n    <tr>\n      <th>4</th>\n      <td>NMA</td>\n      <td>Product F</td>\n      <td>40 / B / FtO</td>\n      <td>6C-1F1-226-1B3-2-3542B41</td>\n      <td>43823868</td>\n      <td>4121004</td>\n      <td>29263220319421</td>\n      <td>19/02/2019</td>\n      <td>1</td>\n      <td>119.0</td>\n      <td>-119.00</td>\n      <td>0.00</td>\n      <td>0.0</td>\n      <td>0.0</td>\n      <td>0.0</td>\n      <td>0</td>\n      <td>1</td>\n    </tr>\n  </tbody>\n</table>\n</div>"
     },
     "execution_count": 60,
     "metadata": {},
     "output_type": "execute_result"
    }
   ],
   "source": [
    "# first rows of dataset\n",
    "customers_orders.head()"
   ],
   "metadata": {
    "collapsed": false
   }
  },
  {
   "cell_type": "code",
   "execution_count": 61,
   "outputs": [
    {
     "name": "stdout",
     "output_type": "stream",
     "text": [
      "<class 'pandas.core.frame.DataFrame'>\n",
      "RangeIndex: 70052 entries, 0 to 70051\n",
      "Data columns (total 17 columns):\n",
      " #   Column                  Non-Null Count  Dtype  \n",
      "---  ------                  --------------  -----  \n",
      " 0   product_title           70052 non-null  object \n",
      " 1   product_type            70052 non-null  object \n",
      " 2   variant_title           70052 non-null  object \n",
      " 3   variant_sku             70052 non-null  object \n",
      " 4   variant_id              70052 non-null  int64  \n",
      " 5   customer_id             70052 non-null  int64  \n",
      " 6   order_id                70052 non-null  int64  \n",
      " 7   day                     70052 non-null  object \n",
      " 8   net_quantity            70052 non-null  int64  \n",
      " 9   gross_sales             70052 non-null  float64\n",
      " 10  discounts               70052 non-null  float64\n",
      " 11  returns                 70052 non-null  float64\n",
      " 12  net_sales               70052 non-null  float64\n",
      " 13  taxes                   70052 non-null  float64\n",
      " 14  total_sales             70052 non-null  float64\n",
      " 15  returned_item_quantity  70052 non-null  int64  \n",
      " 16  ordered_item_quantity   70052 non-null  int64  \n",
      "dtypes: float64(6), int64(6), object(5)\n",
      "memory usage: 9.1+ MB\n"
     ]
    }
   ],
   "source": [
    "# first look of customers data\n",
    "customers_orders.info()"
   ],
   "metadata": {
    "collapsed": false
   }
  },
  {
   "cell_type": "code",
   "execution_count": 62,
   "outputs": [
    {
     "data": {
      "text/plain": "         variant_id   customer_id      order_id  net_quantity   gross_sales  \\\ncount  7.005200e+04  7.005200e+04  7.005200e+04  70052.000000  70052.000000   \nmean   2.442320e+11  6.013091e+11  5.506075e+13      0.701179     61.776302   \nstd    4.255079e+12  6.223201e+12  2.587640e+13      0.739497     31.800689   \nmin    1.001447e+07  1.000661e+06  1.000657e+13     -3.000000      0.000000   \n25%    2.692223e+07  3.295695e+06  3.270317e+13      1.000000     51.670000   \n50%    4.494514e+07  5.566107e+06  5.522207e+13      1.000000     74.170000   \n75%    7.743106e+07  7.815352e+06  7.736876e+13      1.000000     79.170000   \nmax    8.422212e+13  9.977409e+13  9.999554e+13      6.000000    445.000000   \n\n          discounts       returns     net_sales         taxes   total_sales  \\\ncount  70052.000000  70052.000000  70052.000000  70052.000000  70052.000000   \nmean      -4.949904    -10.246051     46.580348      9.123636     55.703982   \nstd        7.769972     25.154677     51.802690     10.305236     61.920557   \nmin     -200.000000   -237.500000   -237.500000    -47.500000   -285.000000   \n25%       -8.340000      0.000000     47.080000      8.375000     56.227500   \n50%        0.000000      0.000000     63.330000     12.660000     76.000000   \n75%        0.000000      0.000000     74.170000     14.840000     89.000000   \nmax        0.000000      0.000000    445.000000     63.340000    445.000000   \n\n       returned_item_quantity  ordered_item_quantity  \ncount            70052.000000           70052.000000  \nmean                -0.156098               0.857277  \nstd                  0.369190               0.380820  \nmin                 -3.000000               0.000000  \n25%                  0.000000               1.000000  \n50%                  0.000000               1.000000  \n75%                  0.000000               1.000000  \nmax                  0.000000               6.000000  ",
      "text/html": "<div>\n<style scoped>\n    .dataframe tbody tr th:only-of-type {\n        vertical-align: middle;\n    }\n\n    .dataframe tbody tr th {\n        vertical-align: top;\n    }\n\n    .dataframe thead th {\n        text-align: right;\n    }\n</style>\n<table border=\"1\" class=\"dataframe\">\n  <thead>\n    <tr style=\"text-align: right;\">\n      <th></th>\n      <th>variant_id</th>\n      <th>customer_id</th>\n      <th>order_id</th>\n      <th>net_quantity</th>\n      <th>gross_sales</th>\n      <th>discounts</th>\n      <th>returns</th>\n      <th>net_sales</th>\n      <th>taxes</th>\n      <th>total_sales</th>\n      <th>returned_item_quantity</th>\n      <th>ordered_item_quantity</th>\n    </tr>\n  </thead>\n  <tbody>\n    <tr>\n      <th>count</th>\n      <td>7.005200e+04</td>\n      <td>7.005200e+04</td>\n      <td>7.005200e+04</td>\n      <td>70052.000000</td>\n      <td>70052.000000</td>\n      <td>70052.000000</td>\n      <td>70052.000000</td>\n      <td>70052.000000</td>\n      <td>70052.000000</td>\n      <td>70052.000000</td>\n      <td>70052.000000</td>\n      <td>70052.000000</td>\n    </tr>\n    <tr>\n      <th>mean</th>\n      <td>2.442320e+11</td>\n      <td>6.013091e+11</td>\n      <td>5.506075e+13</td>\n      <td>0.701179</td>\n      <td>61.776302</td>\n      <td>-4.949904</td>\n      <td>-10.246051</td>\n      <td>46.580348</td>\n      <td>9.123636</td>\n      <td>55.703982</td>\n      <td>-0.156098</td>\n      <td>0.857277</td>\n    </tr>\n    <tr>\n      <th>std</th>\n      <td>4.255079e+12</td>\n      <td>6.223201e+12</td>\n      <td>2.587640e+13</td>\n      <td>0.739497</td>\n      <td>31.800689</td>\n      <td>7.769972</td>\n      <td>25.154677</td>\n      <td>51.802690</td>\n      <td>10.305236</td>\n      <td>61.920557</td>\n      <td>0.369190</td>\n      <td>0.380820</td>\n    </tr>\n    <tr>\n      <th>min</th>\n      <td>1.001447e+07</td>\n      <td>1.000661e+06</td>\n      <td>1.000657e+13</td>\n      <td>-3.000000</td>\n      <td>0.000000</td>\n      <td>-200.000000</td>\n      <td>-237.500000</td>\n      <td>-237.500000</td>\n      <td>-47.500000</td>\n      <td>-285.000000</td>\n      <td>-3.000000</td>\n      <td>0.000000</td>\n    </tr>\n    <tr>\n      <th>25%</th>\n      <td>2.692223e+07</td>\n      <td>3.295695e+06</td>\n      <td>3.270317e+13</td>\n      <td>1.000000</td>\n      <td>51.670000</td>\n      <td>-8.340000</td>\n      <td>0.000000</td>\n      <td>47.080000</td>\n      <td>8.375000</td>\n      <td>56.227500</td>\n      <td>0.000000</td>\n      <td>1.000000</td>\n    </tr>\n    <tr>\n      <th>50%</th>\n      <td>4.494514e+07</td>\n      <td>5.566107e+06</td>\n      <td>5.522207e+13</td>\n      <td>1.000000</td>\n      <td>74.170000</td>\n      <td>0.000000</td>\n      <td>0.000000</td>\n      <td>63.330000</td>\n      <td>12.660000</td>\n      <td>76.000000</td>\n      <td>0.000000</td>\n      <td>1.000000</td>\n    </tr>\n    <tr>\n      <th>75%</th>\n      <td>7.743106e+07</td>\n      <td>7.815352e+06</td>\n      <td>7.736876e+13</td>\n      <td>1.000000</td>\n      <td>79.170000</td>\n      <td>0.000000</td>\n      <td>0.000000</td>\n      <td>74.170000</td>\n      <td>14.840000</td>\n      <td>89.000000</td>\n      <td>0.000000</td>\n      <td>1.000000</td>\n    </tr>\n    <tr>\n      <th>max</th>\n      <td>8.422212e+13</td>\n      <td>9.977409e+13</td>\n      <td>9.999554e+13</td>\n      <td>6.000000</td>\n      <td>445.000000</td>\n      <td>0.000000</td>\n      <td>0.000000</td>\n      <td>445.000000</td>\n      <td>63.340000</td>\n      <td>445.000000</td>\n      <td>0.000000</td>\n      <td>6.000000</td>\n    </tr>\n  </tbody>\n</table>\n</div>"
     },
     "execution_count": 62,
     "metadata": {},
     "output_type": "execute_result"
    }
   ],
   "source": [
    "# descriptive statistics of the non-object columns\n",
    "customers_orders.describe()"
   ],
   "metadata": {
    "collapsed": false
   }
  },
  {
   "cell_type": "markdown",
   "source": [
    "There were significant number of rows whose ordered_item_quantity is 0 and net_quantity is less than 0, which means they are not ordered or sold at all"
   ],
   "metadata": {
    "collapsed": false
   }
  },
  {
   "cell_type": "code",
   "execution_count": 63,
   "outputs": [
    {
     "name": "stdout",
     "output_type": "stream",
     "text": [
      "Number of rows that net quantity is negative:  10715\n"
     ]
    }
   ],
   "source": [
    "print(\"Number of rows that net quantity is negative: \", customers_orders[customers_orders.net_quantity < 0].shape[0])"
   ],
   "metadata": {
    "collapsed": false
   }
  },
  {
   "cell_type": "markdown",
   "source": [
    "##### We will exclude these rows from the orders dataset for this project"
   ],
   "metadata": {
    "collapsed": false
   }
  },
  {
   "cell_type": "code",
   "execution_count": 64,
   "outputs": [],
   "source": [
    "# exclude not sold/ordered SKUs from the dataset\n",
    "customers_orders = customers_orders [customers_orders[\"ordered_item_quantity\"] > 0]"
   ],
   "metadata": {
    "collapsed": false
   }
  },
  {
   "cell_type": "markdown",
   "source": [
    "## 1. Products ordered\n",
    "It is the count of the products ordered in product_type column by a customer\n",
    "\n",
    "**Create functions that identify customers who order multiple products**"
   ],
   "metadata": {
    "collapsed": false
   }
  },
  {
   "cell_type": "code",
   "execution_count": 65,
   "outputs": [],
   "source": [
    "def identify_column(column):\n",
    "    if column >0:\n",
    "        return 1\n",
    "    if column <= 0:\n",
    "        return 0\n",
    "\n",
    "'''\n",
    "1. aggregates a dataframe by column list,\n",
    "    creating this way an aggregated dataframe by counting the ordered item quantities\n",
    "2. adds number_of_X ordered where X is the second element in the column_list\n",
    "    to the aggregated dataframe by encoding ordered items into 1\n",
    "3. creates final dataframe containing information about how many of X are ordered,\n",
    "    based on the first element passed in the column list\n",
    "'''\n",
    "def aggregate_by_ordered_quantity(dataframe, column_list):\n",
    "    aggregated_dataframe = (dataframe\n",
    "                            .groupby(column_list)\n",
    "                            .ordered_item_quantity.count()\n",
    "                            .reset_index())\n",
    "\n",
    "    aggregated_dataframe[\"products_ordered\"] = (aggregated_dataframe\n",
    "                                               .ordered_item_quantity\n",
    "                                               .apply(identify_column))\n",
    "\n",
    "    final_dataframe = (aggregated_dataframe\n",
    "                       .groupby(column_list[0])\n",
    "                       .products_ordered.sum()\n",
    "                       .reset_index())\n",
    "\n",
    "    return final_dataframe\n"
   ],
   "metadata": {
    "collapsed": false
   }
  },
  {
   "cell_type": "code",
   "execution_count": 66,
   "outputs": [],
   "source": [
    "# applying functions to customers_orders\n",
    "customers = aggregate_by_ordered_quantity(customers_orders, [\"customer_id\", \"product_type\"])"
   ],
   "metadata": {
    "collapsed": false
   }
  },
  {
   "cell_type": "code",
   "execution_count": 67,
   "outputs": [
    {
     "name": "stdout",
     "output_type": "stream",
     "text": [
      "   customer_id  products_ordered\n",
      "0      1000661                 1\n",
      "1      1001914                 1\n",
      "2      1002167                 3\n",
      "3      1002387                 1\n",
      "4      1002419                 2\n"
     ]
    }
   ],
   "source": [
    "print(customers.head())"
   ],
   "metadata": {
    "collapsed": false
   }
  }
 ],
 "metadata": {
  "kernelspec": {
   "display_name": "Python 3",
   "language": "python",
   "name": "python3"
  },
  "language_info": {
   "codemirror_mode": {
    "name": "ipython",
    "version": 2
   },
   "file_extension": ".py",
   "mimetype": "text/x-python",
   "name": "python",
   "nbconvert_exporter": "python",
   "pygments_lexer": "ipython2",
   "version": "2.7.6"
  }
 },
 "nbformat": 4,
 "nbformat_minor": 0
}
