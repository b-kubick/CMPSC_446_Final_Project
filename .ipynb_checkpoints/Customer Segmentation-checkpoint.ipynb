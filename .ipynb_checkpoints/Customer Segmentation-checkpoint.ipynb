{
 "cells": [
  {
   "cell_type": "markdown",
   "metadata": {},
   "source": [
    "## Introduction"
   ]
  },
  {
   "cell_type": "markdown",
   "metadata": {},
   "source": [
    "### Imports"
   ]
  },
  {
   "cell_type": "code",
   "execution_count": 27,
   "metadata": {
    "collapsed": true
   },
   "outputs": [],
   "source": [
    "\n",
    "import pandas as pd\n",
    "import numpy as np\n",
    "\n",
    "# Visualization\n",
    "import matplotlib.pyplot as plt\n",
    "import plotly.express as px\n",
    "import plotly.graph_objects as go\n",
    "from plotly.subplots import make_subplots\n",
    "\n",
    "# Data preprocessing and clustering\n",
    "from sklearn.cluster import KMeans\n",
    "\n",
    "%matplotlib inline\n",
    "# to include graphs inline within the frontends next to code\n",
    "\n",
    "pd.options.mode.chained_assignment = None\n",
    "# to bypass warnings in various dataframe assignments\n"
   ]
  },
  {
   "cell_type": "markdown",
   "metadata": {},
   "source": [
    "## Investigate Data"
   ]
  },
  {
   "cell_type": "code",
   "execution_count": 28,
   "metadata": {},
   "outputs": [
    {
     "ename": "FileNotFoundError",
     "evalue": "[Errno 2] No such file or directory: 'Orders - Analysis Task.csv'",
     "output_type": "error",
     "traceback": [
      "\u001b[1;31m---------------------------------------------------------------------------\u001b[0m",
      "\u001b[1;31mFileNotFoundError\u001b[0m                         Traceback (most recent call last)",
      "\u001b[1;32mc:\\Users\\bbuss\\OneDrive\\Documents\\GitHub\\menningTestingAndroid\\CMPSC_446_Final_Project\\.ipynb_checkpoints\\Customer Segmentation-checkpoint.ipynb Cell 5\u001b[0m line \u001b[0;36m2\n\u001b[0;32m      <a href='vscode-notebook-cell:/c%3A/Users/bbuss/OneDrive/Documents/GitHub/menningTestingAndroid/CMPSC_446_Final_Project/.ipynb_checkpoints/Customer%20Segmentation-checkpoint.ipynb#W4sZmlsZQ%3D%3D?line=0'>1</a>\u001b[0m \u001b[39m# load data into a dataframe\u001b[39;00m\n\u001b[1;32m----> <a href='vscode-notebook-cell:/c%3A/Users/bbuss/OneDrive/Documents/GitHub/menningTestingAndroid/CMPSC_446_Final_Project/.ipynb_checkpoints/Customer%20Segmentation-checkpoint.ipynb#W4sZmlsZQ%3D%3D?line=1'>2</a>\u001b[0m customers_orders \u001b[39m=\u001b[39m pd\u001b[39m.\u001b[39;49mread_csv(\u001b[39m\"\u001b[39;49m\u001b[39mOrders - Analysis Task.csv\u001b[39;49m\u001b[39m\"\u001b[39;49m)\n",
      "File \u001b[1;32mc:\\Users\\bbuss\\AppData\\Local\\Programs\\Python\\Python311\\Lib\\site-packages\\pandas\\io\\parsers\\readers.py:948\u001b[0m, in \u001b[0;36mread_csv\u001b[1;34m(filepath_or_buffer, sep, delimiter, header, names, index_col, usecols, dtype, engine, converters, true_values, false_values, skipinitialspace, skiprows, skipfooter, nrows, na_values, keep_default_na, na_filter, verbose, skip_blank_lines, parse_dates, infer_datetime_format, keep_date_col, date_parser, date_format, dayfirst, cache_dates, iterator, chunksize, compression, thousands, decimal, lineterminator, quotechar, quoting, doublequote, escapechar, comment, encoding, encoding_errors, dialect, on_bad_lines, delim_whitespace, low_memory, memory_map, float_precision, storage_options, dtype_backend)\u001b[0m\n\u001b[0;32m    935\u001b[0m kwds_defaults \u001b[39m=\u001b[39m _refine_defaults_read(\n\u001b[0;32m    936\u001b[0m     dialect,\n\u001b[0;32m    937\u001b[0m     delimiter,\n\u001b[1;32m   (...)\u001b[0m\n\u001b[0;32m    944\u001b[0m     dtype_backend\u001b[39m=\u001b[39mdtype_backend,\n\u001b[0;32m    945\u001b[0m )\n\u001b[0;32m    946\u001b[0m kwds\u001b[39m.\u001b[39mupdate(kwds_defaults)\n\u001b[1;32m--> 948\u001b[0m \u001b[39mreturn\u001b[39;00m _read(filepath_or_buffer, kwds)\n",
      "File \u001b[1;32mc:\\Users\\bbuss\\AppData\\Local\\Programs\\Python\\Python311\\Lib\\site-packages\\pandas\\io\\parsers\\readers.py:611\u001b[0m, in \u001b[0;36m_read\u001b[1;34m(filepath_or_buffer, kwds)\u001b[0m\n\u001b[0;32m    608\u001b[0m _validate_names(kwds\u001b[39m.\u001b[39mget(\u001b[39m\"\u001b[39m\u001b[39mnames\u001b[39m\u001b[39m\"\u001b[39m, \u001b[39mNone\u001b[39;00m))\n\u001b[0;32m    610\u001b[0m \u001b[39m# Create the parser.\u001b[39;00m\n\u001b[1;32m--> 611\u001b[0m parser \u001b[39m=\u001b[39m TextFileReader(filepath_or_buffer, \u001b[39m*\u001b[39;49m\u001b[39m*\u001b[39;49mkwds)\n\u001b[0;32m    613\u001b[0m \u001b[39mif\u001b[39;00m chunksize \u001b[39mor\u001b[39;00m iterator:\n\u001b[0;32m    614\u001b[0m     \u001b[39mreturn\u001b[39;00m parser\n",
      "File \u001b[1;32mc:\\Users\\bbuss\\AppData\\Local\\Programs\\Python\\Python311\\Lib\\site-packages\\pandas\\io\\parsers\\readers.py:1448\u001b[0m, in \u001b[0;36mTextFileReader.__init__\u001b[1;34m(self, f, engine, **kwds)\u001b[0m\n\u001b[0;32m   1445\u001b[0m     \u001b[39mself\u001b[39m\u001b[39m.\u001b[39moptions[\u001b[39m\"\u001b[39m\u001b[39mhas_index_names\u001b[39m\u001b[39m\"\u001b[39m] \u001b[39m=\u001b[39m kwds[\u001b[39m\"\u001b[39m\u001b[39mhas_index_names\u001b[39m\u001b[39m\"\u001b[39m]\n\u001b[0;32m   1447\u001b[0m \u001b[39mself\u001b[39m\u001b[39m.\u001b[39mhandles: IOHandles \u001b[39m|\u001b[39m \u001b[39mNone\u001b[39;00m \u001b[39m=\u001b[39m \u001b[39mNone\u001b[39;00m\n\u001b[1;32m-> 1448\u001b[0m \u001b[39mself\u001b[39m\u001b[39m.\u001b[39m_engine \u001b[39m=\u001b[39m \u001b[39mself\u001b[39;49m\u001b[39m.\u001b[39;49m_make_engine(f, \u001b[39mself\u001b[39;49m\u001b[39m.\u001b[39;49mengine)\n",
      "File \u001b[1;32mc:\\Users\\bbuss\\AppData\\Local\\Programs\\Python\\Python311\\Lib\\site-packages\\pandas\\io\\parsers\\readers.py:1705\u001b[0m, in \u001b[0;36mTextFileReader._make_engine\u001b[1;34m(self, f, engine)\u001b[0m\n\u001b[0;32m   1703\u001b[0m     \u001b[39mif\u001b[39;00m \u001b[39m\"\u001b[39m\u001b[39mb\u001b[39m\u001b[39m\"\u001b[39m \u001b[39mnot\u001b[39;00m \u001b[39min\u001b[39;00m mode:\n\u001b[0;32m   1704\u001b[0m         mode \u001b[39m+\u001b[39m\u001b[39m=\u001b[39m \u001b[39m\"\u001b[39m\u001b[39mb\u001b[39m\u001b[39m\"\u001b[39m\n\u001b[1;32m-> 1705\u001b[0m \u001b[39mself\u001b[39m\u001b[39m.\u001b[39mhandles \u001b[39m=\u001b[39m get_handle(\n\u001b[0;32m   1706\u001b[0m     f,\n\u001b[0;32m   1707\u001b[0m     mode,\n\u001b[0;32m   1708\u001b[0m     encoding\u001b[39m=\u001b[39;49m\u001b[39mself\u001b[39;49m\u001b[39m.\u001b[39;49moptions\u001b[39m.\u001b[39;49mget(\u001b[39m\"\u001b[39;49m\u001b[39mencoding\u001b[39;49m\u001b[39m\"\u001b[39;49m, \u001b[39mNone\u001b[39;49;00m),\n\u001b[0;32m   1709\u001b[0m     compression\u001b[39m=\u001b[39;49m\u001b[39mself\u001b[39;49m\u001b[39m.\u001b[39;49moptions\u001b[39m.\u001b[39;49mget(\u001b[39m\"\u001b[39;49m\u001b[39mcompression\u001b[39;49m\u001b[39m\"\u001b[39;49m, \u001b[39mNone\u001b[39;49;00m),\n\u001b[0;32m   1710\u001b[0m     memory_map\u001b[39m=\u001b[39;49m\u001b[39mself\u001b[39;49m\u001b[39m.\u001b[39;49moptions\u001b[39m.\u001b[39;49mget(\u001b[39m\"\u001b[39;49m\u001b[39mmemory_map\u001b[39;49m\u001b[39m\"\u001b[39;49m, \u001b[39mFalse\u001b[39;49;00m),\n\u001b[0;32m   1711\u001b[0m     is_text\u001b[39m=\u001b[39;49mis_text,\n\u001b[0;32m   1712\u001b[0m     errors\u001b[39m=\u001b[39;49m\u001b[39mself\u001b[39;49m\u001b[39m.\u001b[39;49moptions\u001b[39m.\u001b[39;49mget(\u001b[39m\"\u001b[39;49m\u001b[39mencoding_errors\u001b[39;49m\u001b[39m\"\u001b[39;49m, \u001b[39m\"\u001b[39;49m\u001b[39mstrict\u001b[39;49m\u001b[39m\"\u001b[39;49m),\n\u001b[0;32m   1713\u001b[0m     storage_options\u001b[39m=\u001b[39;49m\u001b[39mself\u001b[39;49m\u001b[39m.\u001b[39;49moptions\u001b[39m.\u001b[39;49mget(\u001b[39m\"\u001b[39;49m\u001b[39mstorage_options\u001b[39;49m\u001b[39m\"\u001b[39;49m, \u001b[39mNone\u001b[39;49;00m),\n\u001b[0;32m   1714\u001b[0m )\n\u001b[0;32m   1715\u001b[0m \u001b[39massert\u001b[39;00m \u001b[39mself\u001b[39m\u001b[39m.\u001b[39mhandles \u001b[39mis\u001b[39;00m \u001b[39mnot\u001b[39;00m \u001b[39mNone\u001b[39;00m\n\u001b[0;32m   1716\u001b[0m f \u001b[39m=\u001b[39m \u001b[39mself\u001b[39m\u001b[39m.\u001b[39mhandles\u001b[39m.\u001b[39mhandle\n",
      "File \u001b[1;32mc:\\Users\\bbuss\\AppData\\Local\\Programs\\Python\\Python311\\Lib\\site-packages\\pandas\\io\\common.py:863\u001b[0m, in \u001b[0;36mget_handle\u001b[1;34m(path_or_buf, mode, encoding, compression, memory_map, is_text, errors, storage_options)\u001b[0m\n\u001b[0;32m    858\u001b[0m \u001b[39melif\u001b[39;00m \u001b[39misinstance\u001b[39m(handle, \u001b[39mstr\u001b[39m):\n\u001b[0;32m    859\u001b[0m     \u001b[39m# Check whether the filename is to be opened in binary mode.\u001b[39;00m\n\u001b[0;32m    860\u001b[0m     \u001b[39m# Binary mode does not support 'encoding' and 'newline'.\u001b[39;00m\n\u001b[0;32m    861\u001b[0m     \u001b[39mif\u001b[39;00m ioargs\u001b[39m.\u001b[39mencoding \u001b[39mand\u001b[39;00m \u001b[39m\"\u001b[39m\u001b[39mb\u001b[39m\u001b[39m\"\u001b[39m \u001b[39mnot\u001b[39;00m \u001b[39min\u001b[39;00m ioargs\u001b[39m.\u001b[39mmode:\n\u001b[0;32m    862\u001b[0m         \u001b[39m# Encoding\u001b[39;00m\n\u001b[1;32m--> 863\u001b[0m         handle \u001b[39m=\u001b[39m \u001b[39mopen\u001b[39m(\n\u001b[0;32m    864\u001b[0m             handle,\n\u001b[0;32m    865\u001b[0m             ioargs\u001b[39m.\u001b[39mmode,\n\u001b[0;32m    866\u001b[0m             encoding\u001b[39m=\u001b[39mioargs\u001b[39m.\u001b[39mencoding,\n\u001b[0;32m    867\u001b[0m             errors\u001b[39m=\u001b[39merrors,\n\u001b[0;32m    868\u001b[0m             newline\u001b[39m=\u001b[39m\u001b[39m\"\u001b[39m\u001b[39m\"\u001b[39m,\n\u001b[0;32m    869\u001b[0m         )\n\u001b[0;32m    870\u001b[0m     \u001b[39melse\u001b[39;00m:\n\u001b[0;32m    871\u001b[0m         \u001b[39m# Binary mode\u001b[39;00m\n\u001b[0;32m    872\u001b[0m         handle \u001b[39m=\u001b[39m \u001b[39mopen\u001b[39m(handle, ioargs\u001b[39m.\u001b[39mmode)\n",
      "\u001b[1;31mFileNotFoundError\u001b[0m: [Errno 2] No such file or directory: 'Orders - Analysis Task.csv'"
     ]
    }
   ],
   "source": [
    "# load data into a dataframe\n",
    "customers_orders = pd.read_csv(\"Orders - Analysis Task.csv\")"
   ]
  },
  {
   "cell_type": "code",
   "execution_count": null,
   "metadata": {},
   "outputs": [
    {
     "data": {
      "text/html": [
       "<div>\n",
       "<style scoped>\n",
       "    .dataframe tbody tr th:only-of-type {\n",
       "        vertical-align: middle;\n",
       "    }\n",
       "\n",
       "    .dataframe tbody tr th {\n",
       "        vertical-align: top;\n",
       "    }\n",
       "\n",
       "    .dataframe thead th {\n",
       "        text-align: right;\n",
       "    }\n",
       "</style>\n",
       "<table border=\"1\" class=\"dataframe\">\n",
       "  <thead>\n",
       "    <tr style=\"text-align: right;\">\n",
       "      <th></th>\n",
       "      <th>product_title</th>\n",
       "      <th>product_type</th>\n",
       "      <th>variant_title</th>\n",
       "      <th>variant_sku</th>\n",
       "      <th>variant_id</th>\n",
       "      <th>customer_id</th>\n",
       "      <th>order_id</th>\n",
       "      <th>day</th>\n",
       "      <th>net_quantity</th>\n",
       "      <th>gross_sales</th>\n",
       "      <th>discounts</th>\n",
       "      <th>returns</th>\n",
       "      <th>net_sales</th>\n",
       "      <th>taxes</th>\n",
       "      <th>total_sales</th>\n",
       "      <th>returned_item_quantity</th>\n",
       "      <th>ordered_item_quantity</th>\n",
       "    </tr>\n",
       "  </thead>\n",
       "  <tbody>\n",
       "    <tr>\n",
       "      <th>0</th>\n",
       "      <td>DPR</td>\n",
       "      <td>DPR</td>\n",
       "      <td>100</td>\n",
       "      <td>AD-982-708-895-F-6C894FB</td>\n",
       "      <td>52039657</td>\n",
       "      <td>1312378</td>\n",
       "      <td>83290718932496</td>\n",
       "      <td>04/12/2018</td>\n",
       "      <td>2</td>\n",
       "      <td>200.0</td>\n",
       "      <td>-200.00</td>\n",
       "      <td>0.00</td>\n",
       "      <td>0.0</td>\n",
       "      <td>0.0</td>\n",
       "      <td>0.0</td>\n",
       "      <td>0</td>\n",
       "      <td>2</td>\n",
       "    </tr>\n",
       "    <tr>\n",
       "      <th>1</th>\n",
       "      <td>RJF</td>\n",
       "      <td>Product P</td>\n",
       "      <td>28 / A / MTM</td>\n",
       "      <td>83-490-E49-8C8-8-3B100BC</td>\n",
       "      <td>56914686</td>\n",
       "      <td>3715657</td>\n",
       "      <td>36253792848113</td>\n",
       "      <td>01/04/2019</td>\n",
       "      <td>2</td>\n",
       "      <td>190.0</td>\n",
       "      <td>-190.00</td>\n",
       "      <td>0.00</td>\n",
       "      <td>0.0</td>\n",
       "      <td>0.0</td>\n",
       "      <td>0.0</td>\n",
       "      <td>0</td>\n",
       "      <td>2</td>\n",
       "    </tr>\n",
       "    <tr>\n",
       "      <th>2</th>\n",
       "      <td>CLH</td>\n",
       "      <td>Product B</td>\n",
       "      <td>32 / B / FtO</td>\n",
       "      <td>68-ECA-BC7-3B2-A-E73DE1B</td>\n",
       "      <td>24064862</td>\n",
       "      <td>9533448</td>\n",
       "      <td>73094559597229</td>\n",
       "      <td>05/11/2018</td>\n",
       "      <td>0</td>\n",
       "      <td>164.8</td>\n",
       "      <td>-156.56</td>\n",
       "      <td>-8.24</td>\n",
       "      <td>0.0</td>\n",
       "      <td>0.0</td>\n",
       "      <td>0.0</td>\n",
       "      <td>-2</td>\n",
       "      <td>2</td>\n",
       "    </tr>\n",
       "    <tr>\n",
       "      <th>3</th>\n",
       "      <td>NMA</td>\n",
       "      <td>Product F</td>\n",
       "      <td>40 / B / FtO</td>\n",
       "      <td>6C-1F1-226-1B3-2-3542B41</td>\n",
       "      <td>43823868</td>\n",
       "      <td>4121004</td>\n",
       "      <td>53616575668264</td>\n",
       "      <td>19/02/2019</td>\n",
       "      <td>1</td>\n",
       "      <td>119.0</td>\n",
       "      <td>-119.00</td>\n",
       "      <td>0.00</td>\n",
       "      <td>0.0</td>\n",
       "      <td>0.0</td>\n",
       "      <td>0.0</td>\n",
       "      <td>0</td>\n",
       "      <td>1</td>\n",
       "    </tr>\n",
       "    <tr>\n",
       "      <th>4</th>\n",
       "      <td>NMA</td>\n",
       "      <td>Product F</td>\n",
       "      <td>40 / B / FtO</td>\n",
       "      <td>6C-1F1-226-1B3-2-3542B41</td>\n",
       "      <td>43823868</td>\n",
       "      <td>4121004</td>\n",
       "      <td>29263220319421</td>\n",
       "      <td>19/02/2019</td>\n",
       "      <td>1</td>\n",
       "      <td>119.0</td>\n",
       "      <td>-119.00</td>\n",
       "      <td>0.00</td>\n",
       "      <td>0.0</td>\n",
       "      <td>0.0</td>\n",
       "      <td>0.0</td>\n",
       "      <td>0</td>\n",
       "      <td>1</td>\n",
       "    </tr>\n",
       "  </tbody>\n",
       "</table>\n",
       "</div>"
      ],
      "text/plain": [
       "  product_title product_type variant_title               variant_sku  \\\n",
       "0           DPR          DPR           100  AD-982-708-895-F-6C894FB   \n",
       "1           RJF    Product P  28 / A / MTM  83-490-E49-8C8-8-3B100BC   \n",
       "2           CLH    Product B  32 / B / FtO  68-ECA-BC7-3B2-A-E73DE1B   \n",
       "3           NMA    Product F  40 / B / FtO  6C-1F1-226-1B3-2-3542B41   \n",
       "4           NMA    Product F  40 / B / FtO  6C-1F1-226-1B3-2-3542B41   \n",
       "\n",
       "   variant_id  customer_id        order_id         day  net_quantity  \\\n",
       "0    52039657      1312378  83290718932496  04/12/2018             2   \n",
       "1    56914686      3715657  36253792848113  01/04/2019             2   \n",
       "2    24064862      9533448  73094559597229  05/11/2018             0   \n",
       "3    43823868      4121004  53616575668264  19/02/2019             1   \n",
       "4    43823868      4121004  29263220319421  19/02/2019             1   \n",
       "\n",
       "   gross_sales  discounts  returns  net_sales  taxes  total_sales  \\\n",
       "0        200.0    -200.00     0.00        0.0    0.0          0.0   \n",
       "1        190.0    -190.00     0.00        0.0    0.0          0.0   \n",
       "2        164.8    -156.56    -8.24        0.0    0.0          0.0   \n",
       "3        119.0    -119.00     0.00        0.0    0.0          0.0   \n",
       "4        119.0    -119.00     0.00        0.0    0.0          0.0   \n",
       "\n",
       "   returned_item_quantity  ordered_item_quantity  \n",
       "0                       0                      2  \n",
       "1                       0                      2  \n",
       "2                      -2                      2  \n",
       "3                       0                      1  \n",
       "4                       0                      1  "
      ]
     },
     "execution_count": 60,
     "metadata": {},
     "output_type": "execute_result"
    }
   ],
   "source": [
    "# first rows of dataset\n",
    "customers_orders.head()"
   ]
  },
  {
   "cell_type": "code",
   "execution_count": null,
   "metadata": {},
   "outputs": [
    {
     "name": "stdout",
     "output_type": "stream",
     "text": [
      "<class 'pandas.core.frame.DataFrame'>\n",
      "RangeIndex: 70052 entries, 0 to 70051\n",
      "Data columns (total 17 columns):\n",
      " #   Column                  Non-Null Count  Dtype  \n",
      "---  ------                  --------------  -----  \n",
      " 0   product_title           70052 non-null  object \n",
      " 1   product_type            70052 non-null  object \n",
      " 2   variant_title           70052 non-null  object \n",
      " 3   variant_sku             70052 non-null  object \n",
      " 4   variant_id              70052 non-null  int64  \n",
      " 5   customer_id             70052 non-null  int64  \n",
      " 6   order_id                70052 non-null  int64  \n",
      " 7   day                     70052 non-null  object \n",
      " 8   net_quantity            70052 non-null  int64  \n",
      " 9   gross_sales             70052 non-null  float64\n",
      " 10  discounts               70052 non-null  float64\n",
      " 11  returns                 70052 non-null  float64\n",
      " 12  net_sales               70052 non-null  float64\n",
      " 13  taxes                   70052 non-null  float64\n",
      " 14  total_sales             70052 non-null  float64\n",
      " 15  returned_item_quantity  70052 non-null  int64  \n",
      " 16  ordered_item_quantity   70052 non-null  int64  \n",
      "dtypes: float64(6), int64(6), object(5)\n",
      "memory usage: 9.1+ MB\n"
     ]
    }
   ],
   "source": [
    "# first look of customers data\n",
    "customers_orders.info()"
   ]
  },
  {
   "cell_type": "code",
   "execution_count": null,
   "metadata": {},
   "outputs": [
    {
     "data": {
      "text/html": [
       "<div>\n",
       "<style scoped>\n",
       "    .dataframe tbody tr th:only-of-type {\n",
       "        vertical-align: middle;\n",
       "    }\n",
       "\n",
       "    .dataframe tbody tr th {\n",
       "        vertical-align: top;\n",
       "    }\n",
       "\n",
       "    .dataframe thead th {\n",
       "        text-align: right;\n",
       "    }\n",
       "</style>\n",
       "<table border=\"1\" class=\"dataframe\">\n",
       "  <thead>\n",
       "    <tr style=\"text-align: right;\">\n",
       "      <th></th>\n",
       "      <th>variant_id</th>\n",
       "      <th>customer_id</th>\n",
       "      <th>order_id</th>\n",
       "      <th>net_quantity</th>\n",
       "      <th>gross_sales</th>\n",
       "      <th>discounts</th>\n",
       "      <th>returns</th>\n",
       "      <th>net_sales</th>\n",
       "      <th>taxes</th>\n",
       "      <th>total_sales</th>\n",
       "      <th>returned_item_quantity</th>\n",
       "      <th>ordered_item_quantity</th>\n",
       "    </tr>\n",
       "  </thead>\n",
       "  <tbody>\n",
       "    <tr>\n",
       "      <th>count</th>\n",
       "      <td>7.005200e+04</td>\n",
       "      <td>7.005200e+04</td>\n",
       "      <td>7.005200e+04</td>\n",
       "      <td>70052.000000</td>\n",
       "      <td>70052.000000</td>\n",
       "      <td>70052.000000</td>\n",
       "      <td>70052.000000</td>\n",
       "      <td>70052.000000</td>\n",
       "      <td>70052.000000</td>\n",
       "      <td>70052.000000</td>\n",
       "      <td>70052.000000</td>\n",
       "      <td>70052.000000</td>\n",
       "    </tr>\n",
       "    <tr>\n",
       "      <th>mean</th>\n",
       "      <td>2.442320e+11</td>\n",
       "      <td>6.013091e+11</td>\n",
       "      <td>5.506075e+13</td>\n",
       "      <td>0.701179</td>\n",
       "      <td>61.776302</td>\n",
       "      <td>-4.949904</td>\n",
       "      <td>-10.246051</td>\n",
       "      <td>46.580348</td>\n",
       "      <td>9.123636</td>\n",
       "      <td>55.703982</td>\n",
       "      <td>-0.156098</td>\n",
       "      <td>0.857277</td>\n",
       "    </tr>\n",
       "    <tr>\n",
       "      <th>std</th>\n",
       "      <td>4.255079e+12</td>\n",
       "      <td>6.223201e+12</td>\n",
       "      <td>2.587640e+13</td>\n",
       "      <td>0.739497</td>\n",
       "      <td>31.800689</td>\n",
       "      <td>7.769972</td>\n",
       "      <td>25.154677</td>\n",
       "      <td>51.802690</td>\n",
       "      <td>10.305236</td>\n",
       "      <td>61.920557</td>\n",
       "      <td>0.369190</td>\n",
       "      <td>0.380820</td>\n",
       "    </tr>\n",
       "    <tr>\n",
       "      <th>min</th>\n",
       "      <td>1.001447e+07</td>\n",
       "      <td>1.000661e+06</td>\n",
       "      <td>1.000657e+13</td>\n",
       "      <td>-3.000000</td>\n",
       "      <td>0.000000</td>\n",
       "      <td>-200.000000</td>\n",
       "      <td>-237.500000</td>\n",
       "      <td>-237.500000</td>\n",
       "      <td>-47.500000</td>\n",
       "      <td>-285.000000</td>\n",
       "      <td>-3.000000</td>\n",
       "      <td>0.000000</td>\n",
       "    </tr>\n",
       "    <tr>\n",
       "      <th>25%</th>\n",
       "      <td>2.692223e+07</td>\n",
       "      <td>3.295695e+06</td>\n",
       "      <td>3.270317e+13</td>\n",
       "      <td>1.000000</td>\n",
       "      <td>51.670000</td>\n",
       "      <td>-8.340000</td>\n",
       "      <td>0.000000</td>\n",
       "      <td>47.080000</td>\n",
       "      <td>8.375000</td>\n",
       "      <td>56.227500</td>\n",
       "      <td>0.000000</td>\n",
       "      <td>1.000000</td>\n",
       "    </tr>\n",
       "    <tr>\n",
       "      <th>50%</th>\n",
       "      <td>4.494514e+07</td>\n",
       "      <td>5.566107e+06</td>\n",
       "      <td>5.522207e+13</td>\n",
       "      <td>1.000000</td>\n",
       "      <td>74.170000</td>\n",
       "      <td>0.000000</td>\n",
       "      <td>0.000000</td>\n",
       "      <td>63.330000</td>\n",
       "      <td>12.660000</td>\n",
       "      <td>76.000000</td>\n",
       "      <td>0.000000</td>\n",
       "      <td>1.000000</td>\n",
       "    </tr>\n",
       "    <tr>\n",
       "      <th>75%</th>\n",
       "      <td>7.743106e+07</td>\n",
       "      <td>7.815352e+06</td>\n",
       "      <td>7.736876e+13</td>\n",
       "      <td>1.000000</td>\n",
       "      <td>79.170000</td>\n",
       "      <td>0.000000</td>\n",
       "      <td>0.000000</td>\n",
       "      <td>74.170000</td>\n",
       "      <td>14.840000</td>\n",
       "      <td>89.000000</td>\n",
       "      <td>0.000000</td>\n",
       "      <td>1.000000</td>\n",
       "    </tr>\n",
       "    <tr>\n",
       "      <th>max</th>\n",
       "      <td>8.422212e+13</td>\n",
       "      <td>9.977409e+13</td>\n",
       "      <td>9.999554e+13</td>\n",
       "      <td>6.000000</td>\n",
       "      <td>445.000000</td>\n",
       "      <td>0.000000</td>\n",
       "      <td>0.000000</td>\n",
       "      <td>445.000000</td>\n",
       "      <td>63.340000</td>\n",
       "      <td>445.000000</td>\n",
       "      <td>0.000000</td>\n",
       "      <td>6.000000</td>\n",
       "    </tr>\n",
       "  </tbody>\n",
       "</table>\n",
       "</div>"
      ],
      "text/plain": [
       "         variant_id   customer_id      order_id  net_quantity   gross_sales  \\\n",
       "count  7.005200e+04  7.005200e+04  7.005200e+04  70052.000000  70052.000000   \n",
       "mean   2.442320e+11  6.013091e+11  5.506075e+13      0.701179     61.776302   \n",
       "std    4.255079e+12  6.223201e+12  2.587640e+13      0.739497     31.800689   \n",
       "min    1.001447e+07  1.000661e+06  1.000657e+13     -3.000000      0.000000   \n",
       "25%    2.692223e+07  3.295695e+06  3.270317e+13      1.000000     51.670000   \n",
       "50%    4.494514e+07  5.566107e+06  5.522207e+13      1.000000     74.170000   \n",
       "75%    7.743106e+07  7.815352e+06  7.736876e+13      1.000000     79.170000   \n",
       "max    8.422212e+13  9.977409e+13  9.999554e+13      6.000000    445.000000   \n",
       "\n",
       "          discounts       returns     net_sales         taxes   total_sales  \\\n",
       "count  70052.000000  70052.000000  70052.000000  70052.000000  70052.000000   \n",
       "mean      -4.949904    -10.246051     46.580348      9.123636     55.703982   \n",
       "std        7.769972     25.154677     51.802690     10.305236     61.920557   \n",
       "min     -200.000000   -237.500000   -237.500000    -47.500000   -285.000000   \n",
       "25%       -8.340000      0.000000     47.080000      8.375000     56.227500   \n",
       "50%        0.000000      0.000000     63.330000     12.660000     76.000000   \n",
       "75%        0.000000      0.000000     74.170000     14.840000     89.000000   \n",
       "max        0.000000      0.000000    445.000000     63.340000    445.000000   \n",
       "\n",
       "       returned_item_quantity  ordered_item_quantity  \n",
       "count            70052.000000           70052.000000  \n",
       "mean                -0.156098               0.857277  \n",
       "std                  0.369190               0.380820  \n",
       "min                 -3.000000               0.000000  \n",
       "25%                  0.000000               1.000000  \n",
       "50%                  0.000000               1.000000  \n",
       "75%                  0.000000               1.000000  \n",
       "max                  0.000000               6.000000  "
      ]
     },
     "execution_count": 62,
     "metadata": {},
     "output_type": "execute_result"
    }
   ],
   "source": [
    "# descriptive statistics of the non-object columns\n",
    "customers_orders.describe()"
   ]
  },
  {
   "cell_type": "markdown",
   "metadata": {},
   "source": [
    "There were significant number of rows whose ordered_item_quantity is 0 and net_quantity is less than 0, which means they are not ordered or sold at all"
   ]
  },
  {
   "cell_type": "code",
   "execution_count": null,
   "metadata": {},
   "outputs": [
    {
     "name": "stdout",
     "output_type": "stream",
     "text": [
      "Number of rows that net quantity is negative:  10715\n"
     ]
    }
   ],
   "source": [
    "print(\"Number of rows that net quantity is negative: \", customers_orders[customers_orders.net_quantity < 0].shape[0])"
   ]
  },
  {
   "cell_type": "markdown",
   "metadata": {},
   "source": [
    "##### We will exclude these rows from the orders dataset for this project"
   ]
  },
  {
   "cell_type": "code",
   "execution_count": null,
   "metadata": {},
   "outputs": [],
   "source": [
    "# exclude not sold/ordered SKUs from the dataset\n",
    "customers_orders = customers_orders [customers_orders[\"ordered_item_quantity\"] > 0]"
   ]
  },
  {
   "cell_type": "markdown",
   "metadata": {},
   "source": [
    "## 1. Products ordered\n",
    "It is the count of the products ordered in product_type column by a customer\n",
    "\n",
    "**Create functions that identify customers who order multiple products**"
   ]
  },
  {
   "cell_type": "code",
   "execution_count": null,
   "metadata": {},
   "outputs": [],
   "source": [
    "def identify_column(column):\n",
    "    if column >0:\n",
    "        return 1\n",
    "    if column <= 0:\n",
    "        return 0\n",
    "\n",
    "'''\n",
    "1. aggregates a dataframe by column list,\n",
    "    creating this way an aggregated dataframe by counting the ordered item quantities\n",
    "2. adds number_of_X ordered where X is the second element in the column_list\n",
    "    to the aggregated dataframe by encoding ordered items into 1\n",
    "3. creates final dataframe containing information about how many of X are ordered,\n",
    "    based on the first element passed in the column list\n",
    "'''\n",
    "def aggregate_by_ordered_quantity(dataframe, column_list):\n",
    "    aggregated_dataframe = (dataframe\n",
    "                            .groupby(column_list)\n",
    "                            .ordered_item_quantity.count()\n",
    "                            .reset_index())\n",
    "\n",
    "    aggregated_dataframe[\"products_ordered\"] = (aggregated_dataframe\n",
    "                                               .ordered_item_quantity\n",
    "                                               .apply(identify_column))\n",
    "\n",
    "    final_dataframe = (aggregated_dataframe\n",
    "                       .groupby(column_list[0])\n",
    "                       .products_ordered.sum()\n",
    "                       .reset_index())\n",
    "\n",
    "    return final_dataframe\n"
   ]
  },
  {
   "cell_type": "code",
   "execution_count": null,
   "metadata": {},
   "outputs": [],
   "source": [
    "# applying functions to customers_orders\n",
    "customers = aggregate_by_ordered_quantity(customers_orders, [\"customer_id\", \"product_type\"])"
   ]
  },
  {
   "cell_type": "code",
   "execution_count": null,
   "metadata": {},
   "outputs": [
    {
     "name": "stdout",
     "output_type": "stream",
     "text": [
      "   customer_id  products_ordered\n",
      "0      1000661                 1\n",
      "1      1001914                 1\n",
      "2      1002167                 3\n",
      "3      1002387                 1\n",
      "4      1002419                 2\n"
     ]
    }
   ],
   "source": [
    "print(customers.head())"
   ]
  },
  {
   "cell_type": "markdown",
   "metadata": {},
   "source": [
    "## Scale Features: Log Transformation"
   ]
  },
  {
   "cell_type": "code",
   "execution_count": null,
   "metadata": {},
   "outputs": [],
   "source": [
    "def apply_log1p_transformation(dataframe, column):\n",
    "    '''This function takes a dataframe and a column in the string format\n",
    "    then applies numpy log1p transformation to the column\n",
    "    as a result returns log1p applied pandas series'''\n",
    "    \n",
    "    dataframe[\"log_\" + column] = np.log1p(dataframe[column])\n",
    "    return dataframe[\"log_\" + column]"
   ]
  },
  {
   "cell_type": "markdown",
   "metadata": {},
   "source": [
    "### 1. Products ordered"
   ]
  },
  {
   "cell_type": "code",
   "execution_count": null,
   "metadata": {},
   "outputs": [],
   "source": [
    "apply_log1p_transformation(customers, \"products_ordered\")"
   ]
  },
  {
   "cell_type": "markdown",
   "metadata": {},
   "source": [
    "### 2. Average return rate"
   ]
  },
  {
   "cell_type": "code",
   "execution_count": null,
   "metadata": {},
   "outputs": [],
   "source": [
    "apply_log1p_transformation(customers, \"average_return_rate\")"
   ]
  },
  {
   "cell_type": "markdown",
   "metadata": {},
   "source": [
    "### 3. Total spending"
   ]
  },
  {
   "cell_type": "code",
   "execution_count": null,
   "metadata": {},
   "outputs": [],
   "source": [
    "apply_log1p_transformation(customers, \"total_spending\")"
   ]
  },
  {
   "cell_type": "markdown",
   "metadata": {},
   "source": [
    "### Visualize log transformation applied features"
   ]
  },
  {
   "cell_type": "code",
   "execution_count": null,
   "metadata": {},
   "outputs": [],
   "source": [
    "fig = make_subplots(rows=3, cols=1,\n",
    "                   subplot_titles=(\"Products Ordered\", \n",
    "                                   \"Average Return Rate\", \n",
    "                                   \"Total Spending\"))\n",
    "\n",
    "fig.append_trace(go.Histogram(x=customers.log_products_ordered),\n",
    "                 row=1, col=1)\n",
    "\n",
    "fig.append_trace(go.Histogram(x=customers.log_average_return_rate),\n",
    "                 row=2, col=1)\n",
    "\n",
    "fig.append_trace(go.Histogram(x=customers.log_total_spending),\n",
    "                 row=3, col=1)\n",
    "\n",
    "fig.update_layout(height=800, width=800,\n",
    "                  title_text=\"Distribution of the Features after Logarithm Transformation\")\n",
    "\n",
    "fig.show()"
   ]
  },
  {
   "cell_type": "code",
   "execution_count": null,
   "metadata": {},
   "outputs": [],
   "source": [
    "customers.head()"
   ]
  },
  {
   "cell_type": "code",
   "execution_count": null,
   "metadata": {},
   "outputs": [],
   "source": [
    "customers.iloc[:,3:]"
   ]
  },
  {
   "cell_type": "markdown",
   "metadata": {},
   "source": [
    "## Create K-means model"
   ]
  },
  {
   "cell_type": "code",
   "execution_count": null,
   "metadata": {},
   "outputs": [],
   "source": [
    "# create initial K-means model\n",
    "kmeans_model = KMeans(init='k-means++', \n",
    "                      max_iter=500, \n",
    "                      random_state=42)"
   ]
  },
  {
   "cell_type": "code",
   "execution_count": null,
   "metadata": {},
   "outputs": [],
   "source": [
    "kmeans_model.fit(customers.iloc[:,3:])\n",
    "\n",
    "# print the sum of distances from all examples to the center of the cluster\n",
    "print(\"within-cluster sum-of-squares (inertia) of the model is:\", kmeans_model.inertia_)"
   ]
  },
  {
   "cell_type": "markdown",
   "metadata": {},
   "source": [
    "## Hyperparameter tuning: Find optimal number of clusters"
   ]
  },
  {
   "cell_type": "code",
   "execution_count": null,
   "metadata": {},
   "outputs": [],
   "source": [
    "def make_list_of_K(K, dataframe):\n",
    "    '''inputs: K as integer and dataframe\n",
    "    apply k-means clustering to dataframe\n",
    "    and make a list of inertia values against 1 to K (inclusive)\n",
    "    return the inertia values list\n",
    "    '''\n",
    "    \n",
    "    cluster_values = list(range(1, K+1))\n",
    "    inertia_values=[]\n",
    "    \n",
    "    for c in cluster_values:\n",
    "        model = KMeans(\n",
    "            n_clusters = c, \n",
    "            init='k-means++', \n",
    "            max_iter=500, \n",
    "            random_state=42)\n",
    "        model.fit(dataframe)\n",
    "        inertia_values.append(model.inertia_)\n",
    "    \n",
    "    return inertia_values"
   ]
  },
  {
   "cell_type": "markdown",
   "metadata": {},
   "source": [
    "### Visualize different K and models"
   ]
  },
  {
   "cell_type": "code",
   "execution_count": null,
   "metadata": {},
   "outputs": [
    {
     "ename": "NameError",
     "evalue": "name 'make_list_of_K' is not defined",
     "output_type": "error",
     "traceback": [
      "\u001b[1;31m---------------------------------------------------------------------------\u001b[0m",
      "\u001b[1;31mNameError\u001b[0m                                 Traceback (most recent call last)",
      "\u001b[1;32mc:\\Users\\bbuss\\OneDrive\\Documents\\GitHub\\menningTestingAndroid\\CMPSC_446_Final_Project\\.ipynb_checkpoints\\Customer Segmentation-checkpoint.ipynb Cell 35\u001b[0m line \u001b[0;36m2\n\u001b[0;32m      <a href='vscode-notebook-cell:/c%3A/Users/bbuss/OneDrive/Documents/GitHub/menningTestingAndroid/CMPSC_446_Final_Project/.ipynb_checkpoints/Customer%20Segmentation-checkpoint.ipynb#X55sZmlsZQ%3D%3D?line=0'>1</a>\u001b[0m \u001b[39m# save inertia values in a dataframe for k values between 1 to 15 \u001b[39;00m\n\u001b[1;32m----> <a href='vscode-notebook-cell:/c%3A/Users/bbuss/OneDrive/Documents/GitHub/menningTestingAndroid/CMPSC_446_Final_Project/.ipynb_checkpoints/Customer%20Segmentation-checkpoint.ipynb#X55sZmlsZQ%3D%3D?line=1'>2</a>\u001b[0m results \u001b[39m=\u001b[39m make_list_of_K(\u001b[39m15\u001b[39m, customers\u001b[39m.\u001b[39miloc[:, \u001b[39m3\u001b[39m:])\n\u001b[0;32m      <a href='vscode-notebook-cell:/c%3A/Users/bbuss/OneDrive/Documents/GitHub/menningTestingAndroid/CMPSC_446_Final_Project/.ipynb_checkpoints/Customer%20Segmentation-checkpoint.ipynb#X55sZmlsZQ%3D%3D?line=3'>4</a>\u001b[0m k_values_distances \u001b[39m=\u001b[39m pd\u001b[39m.\u001b[39mDataFrame({\u001b[39m\"\u001b[39m\u001b[39mclusters\u001b[39m\u001b[39m\"\u001b[39m: \u001b[39mlist\u001b[39m(\u001b[39mrange\u001b[39m(\u001b[39m1\u001b[39m, \u001b[39m16\u001b[39m)),\n\u001b[0;32m      <a href='vscode-notebook-cell:/c%3A/Users/bbuss/OneDrive/Documents/GitHub/menningTestingAndroid/CMPSC_446_Final_Project/.ipynb_checkpoints/Customer%20Segmentation-checkpoint.ipynb#X55sZmlsZQ%3D%3D?line=4'>5</a>\u001b[0m                                    \u001b[39m\"\u001b[39m\u001b[39mwithin cluster sum of squared distances\u001b[39m\u001b[39m\"\u001b[39m: results})\n",
      "\u001b[1;31mNameError\u001b[0m: name 'make_list_of_K' is not defined"
     ]
    }
   ],
   "source": [
    "# save inertia values in a dataframe for k values between 1 to 15 \n",
    "results = make_list_of_K(15, customers.iloc[:, 3:])\n",
    "\n",
    "k_values_distances = pd.DataFrame({\"clusters\": list(range(1, 16)),\n",
    "                                   \"within cluster sum of squared distances\": results})"
   ]
  },
  {
   "cell_type": "code",
   "execution_count": null,
   "metadata": {},
   "outputs": [
    {
     "ename": "NameError",
     "evalue": "name 'k_values_distances' is not defined",
     "output_type": "error",
     "traceback": [
      "\u001b[1;31m---------------------------------------------------------------------------\u001b[0m",
      "\u001b[1;31mNameError\u001b[0m                                 Traceback (most recent call last)",
      "\u001b[1;32mc:\\Users\\bbuss\\OneDrive\\Documents\\GitHub\\menningTestingAndroid\\CMPSC_446_Final_Project\\.ipynb_checkpoints\\Customer Segmentation-checkpoint.ipynb Cell 36\u001b[0m line \u001b[0;36m4\n\u001b[0;32m      <a href='vscode-notebook-cell:/c%3A/Users/bbuss/OneDrive/Documents/GitHub/menningTestingAndroid/CMPSC_446_Final_Project/.ipynb_checkpoints/Customer%20Segmentation-checkpoint.ipynb#X56sZmlsZQ%3D%3D?line=0'>1</a>\u001b[0m \u001b[39m# visualization for the selection of number of segments\u001b[39;00m\n\u001b[0;32m      <a href='vscode-notebook-cell:/c%3A/Users/bbuss/OneDrive/Documents/GitHub/menningTestingAndroid/CMPSC_446_Final_Project/.ipynb_checkpoints/Customer%20Segmentation-checkpoint.ipynb#X56sZmlsZQ%3D%3D?line=1'>2</a>\u001b[0m fig \u001b[39m=\u001b[39m go\u001b[39m.\u001b[39mFigure()\n\u001b[1;32m----> <a href='vscode-notebook-cell:/c%3A/Users/bbuss/OneDrive/Documents/GitHub/menningTestingAndroid/CMPSC_446_Final_Project/.ipynb_checkpoints/Customer%20Segmentation-checkpoint.ipynb#X56sZmlsZQ%3D%3D?line=3'>4</a>\u001b[0m fig\u001b[39m.\u001b[39madd_trace(go\u001b[39m.\u001b[39mScatter(x\u001b[39m=\u001b[39mk_values_distances[\u001b[39m\"\u001b[39m\u001b[39mclusters\u001b[39m\u001b[39m\"\u001b[39m], \n\u001b[0;32m      <a href='vscode-notebook-cell:/c%3A/Users/bbuss/OneDrive/Documents/GitHub/menningTestingAndroid/CMPSC_446_Final_Project/.ipynb_checkpoints/Customer%20Segmentation-checkpoint.ipynb#X56sZmlsZQ%3D%3D?line=4'>5</a>\u001b[0m                          y\u001b[39m=\u001b[39mk_values_distances[\u001b[39m\"\u001b[39m\u001b[39mwithin cluster sum of squared distances\u001b[39m\u001b[39m\"\u001b[39m],\n\u001b[0;32m      <a href='vscode-notebook-cell:/c%3A/Users/bbuss/OneDrive/Documents/GitHub/menningTestingAndroid/CMPSC_446_Final_Project/.ipynb_checkpoints/Customer%20Segmentation-checkpoint.ipynb#X56sZmlsZQ%3D%3D?line=5'>6</a>\u001b[0m                          mode\u001b[39m=\u001b[39m\u001b[39m'\u001b[39m\u001b[39mlines+markers\u001b[39m\u001b[39m'\u001b[39m))\n\u001b[0;32m      <a href='vscode-notebook-cell:/c%3A/Users/bbuss/OneDrive/Documents/GitHub/menningTestingAndroid/CMPSC_446_Final_Project/.ipynb_checkpoints/Customer%20Segmentation-checkpoint.ipynb#X56sZmlsZQ%3D%3D?line=7'>8</a>\u001b[0m fig\u001b[39m.\u001b[39mupdate_layout(xaxis \u001b[39m=\u001b[39m \u001b[39mdict\u001b[39m(\n\u001b[0;32m      <a href='vscode-notebook-cell:/c%3A/Users/bbuss/OneDrive/Documents/GitHub/menningTestingAndroid/CMPSC_446_Final_Project/.ipynb_checkpoints/Customer%20Segmentation-checkpoint.ipynb#X56sZmlsZQ%3D%3D?line=8'>9</a>\u001b[0m         tickmode \u001b[39m=\u001b[39m \u001b[39m'\u001b[39m\u001b[39mlinear\u001b[39m\u001b[39m'\u001b[39m,\n\u001b[0;32m     <a href='vscode-notebook-cell:/c%3A/Users/bbuss/OneDrive/Documents/GitHub/menningTestingAndroid/CMPSC_446_Final_Project/.ipynb_checkpoints/Customer%20Segmentation-checkpoint.ipynb#X56sZmlsZQ%3D%3D?line=9'>10</a>\u001b[0m         tick0 \u001b[39m=\u001b[39m \u001b[39m1\u001b[39m,\n\u001b[1;32m   (...)\u001b[0m\n\u001b[0;32m     <a href='vscode-notebook-cell:/c%3A/Users/bbuss/OneDrive/Documents/GitHub/menningTestingAndroid/CMPSC_446_Final_Project/.ipynb_checkpoints/Customer%20Segmentation-checkpoint.ipynb#X56sZmlsZQ%3D%3D?line=12'>13</a>\u001b[0m                   xaxis_title\u001b[39m=\u001b[39m\u001b[39m\"\u001b[39m\u001b[39mK values\u001b[39m\u001b[39m\"\u001b[39m,\n\u001b[0;32m     <a href='vscode-notebook-cell:/c%3A/Users/bbuss/OneDrive/Documents/GitHub/menningTestingAndroid/CMPSC_446_Final_Project/.ipynb_checkpoints/Customer%20Segmentation-checkpoint.ipynb#X56sZmlsZQ%3D%3D?line=13'>14</a>\u001b[0m                   yaxis_title\u001b[39m=\u001b[39m\u001b[39m\"\u001b[39m\u001b[39mCluster sum of squared distances\u001b[39m\u001b[39m\"\u001b[39m)\n\u001b[0;32m     <a href='vscode-notebook-cell:/c%3A/Users/bbuss/OneDrive/Documents/GitHub/menningTestingAndroid/CMPSC_446_Final_Project/.ipynb_checkpoints/Customer%20Segmentation-checkpoint.ipynb#X56sZmlsZQ%3D%3D?line=15'>16</a>\u001b[0m fig\u001b[39m.\u001b[39mshow()\n",
      "\u001b[1;31mNameError\u001b[0m: name 'k_values_distances' is not defined"
     ]
    }
   ],
   "source": [
    "# visualization for the selection of number of segments\n",
    "fig = go.Figure()\n",
    "\n",
    "fig.add_trace(go.Scatter(x=k_values_distances[\"clusters\"], \n",
    "                         y=k_values_distances[\"within cluster sum of squared distances\"],\n",
    "                         mode='lines+markers'))\n",
    "\n",
    "fig.update_layout(xaxis = dict(\n",
    "        tickmode = 'linear',\n",
    "        tick0 = 1,\n",
    "        dtick = 1),\n",
    "                  title_text=\"Within Cluster Sum of Squared Distances VS K Values\",\n",
    "                  xaxis_title=\"K values\",\n",
    "                  yaxis_title=\"Cluster sum of squared distances\")\n",
    "\n",
    "fig.show()"
   ]
  }
 ],
 "metadata": {
  "kernelspec": {
   "display_name": "Python 3 (ipykernel)",
   "language": "python",
   "name": "python3"
  },
  "language_info": {
   "codemirror_mode": {
    "name": "ipython",
    "version": 3
   },
   "file_extension": ".py",
   "mimetype": "text/x-python",
   "name": "python",
   "nbconvert_exporter": "python",
   "pygments_lexer": "ipython3",
   "version": "3.11.5"
  }
 },
 "nbformat": 4,
 "nbformat_minor": 1
}
